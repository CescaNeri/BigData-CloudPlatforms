{
 "cells": [
  {
   "cell_type": "markdown",
   "id": "892f62ce",
   "metadata": {
    "slideshow": {
     "slide_type": "slide"
    }
   },
   "source": [
    "# DL2DWH Lab\n",
    "\n",
    "In this lab you are asked to cover the following points:\n",
    "1. Data ingestion\n",
    "2. Data understanding\n",
    "3. Design and build a relational DWH\n",
    "4. Query the DWH with Tableau (Desktop)\n",
    "5. (Bonus) Plot the provenance graph"
   ]
  },
  {
   "cell_type": "code",
   "execution_count": null,
   "id": "c62c8a60",
   "metadata": {
    "slideshow": {
     "slide_type": "skip"
    }
   },
   "outputs": [],
   "source": [
    "!pip install awswrangler\n",
    "!pip install pandas\n",
    "!pip install sklearn\n",
    "!pip install prov\n",
    "!pip install seaborn\n",
    "!pip install pydot\n",
    "!pip install graphviz\n",
    "import warnings\n",
    "warnings.filterwarnings('ignore')"
   ]
  },
  {
   "cell_type": "code",
   "execution_count": 3,
   "id": "0927b305",
   "metadata": {
    "slideshow": {
     "slide_type": "slide"
    }
   },
   "outputs": [],
   "source": [
    "import pandas as pd\n",
    "import awswrangler as wr\n",
    "import seaborn as sns\n",
    "import prov"
   ]
  },
  {
   "cell_type": "markdown",
   "id": "b96457b2",
   "metadata": {
    "slideshow": {
     "slide_type": "slide"
    }
   },
   "source": [
    "## Data ingestion\n",
    "\n",
    "- Upload the following files in S3 (remember the naming conventions of the data lake areas!)\n",
    "    - [http://big.csr.unibo.it/projects/nosql-datasets/sales_fact_1997.slice-0-1.v0.0.1.csv](http://big.csr.unibo.it/projects/nosql-datasets/sales_fact_1997.slice-0-1.v0.0.1.csv)\n",
    "    - [http://big.csr.unibo.it/projects/nosql-datasets/sales_fact_1997.slice-1-2.v0.0.1.csv](http://big.csr.unibo.it/projects/nosql-datasets/sales_fact_1997.slice-1-2.v0.0.1.csv)\n",
    "    - [http://big.csr.unibo.it/projects/nosql-datasets/sales_fact_1997.slice-2-3.v0.0.1.csv](http://big.csr.unibo.it/projects/nosql-datasets/sales_fact_1997.slice-2-3.v0.0.1.csv)\n",
    "- Merge/Append them into a single Pandas DataFrame\n",
    "    - Which is the underlying assumption so that `append` works?\n",
    "    - See [https://pandas.pydata.org/docs/reference/api/pandas.DataFrame.append.html](https://pandas.pydata.org/docs/reference/api/pandas.DataFrame.append.html)\n",
    "- Save the processed dataset into S3"
   ]
  },
  {
   "cell_type": "code",
   "execution_count": null,
   "id": "c2476a17",
   "metadata": {},
   "outputs": [],
   "source": [
    "file_names = [\"s3://staging-clean-sales-911/sales_fact_1997.slice-0-1.v0.0.1.csv\", \"s3://staging-clean-sales-911/sales_fact_1997.slice-1-2.v0.0.1.csv\", \"s3://staging-clean-sales-911/sales_fact_1997.slice-2-3.v0.0.1.csv\",]\n",
    "    \n",
    "df = pd.concat(map(pd.read_csv, [\"s3://landing-raw-sales-911/sales_fact_1997.slice-0-1.v0.0.1.csv\", \n",
    "                                \"s3://landing-raw-sales-911/sales_fact_1997.slice-1-2.v0.0.1.csv\", \n",
    "                                \"s3://landing-raw-sales-911/sales_fact_1997.slice-2-3.v0.0.1.csv\"]), ignore_index = True)\n",
    "print(df)\n",
    "    "
   ]
  },
  {
   "cell_type": "code",
   "execution_count": 10,
   "id": "5e84224b",
   "metadata": {
    "slideshow": {
     "slide_type": "subslide"
    }
   },
   "outputs": [],
   "source": [
    "landing_bucket = \"s3://landing-raw-sales-911/\"\n",
    "staging_bucket = \"s3://staging-clean-sales-911/\""
   ]
  },
  {
   "cell_type": "code",
   "execution_count": null,
   "id": "f1b99ed8",
   "metadata": {},
   "outputs": [],
   "source": [
    "# wr.s3.to_csv(df=df1, path=output_bucket + \"cleaned-v1-\" + file_name, index=False)\n",
    "\n",
    "wr.s3.to_csv(df = df, path = staging_bucket + \"merged-sales-fact\", index = False)"
   ]
  },
  {
   "cell_type": "markdown",
   "id": "410dad85",
   "metadata": {
    "slideshow": {
     "slide_type": "slide"
    }
   },
   "source": [
    "## Data understanding\n",
    "\n",
    "- What is the dataset about?\n",
    "- Which are candidate levels/measures?\n",
    "- Check and fix the missing values (if any)\n",
    "- How many products have been sold?\n",
    "    - See [https://pandas.pydata.org/docs/reference/api/pandas.Series.value_counts.html](https://pandas.pydata.org/docs/reference/api/pandas.Series.value_counts.html)\n",
    "- Which functional dependencies hold among the levels?\n",
    "    - Given a relation R, a set of attributes X in R is said to functionally determine another set of attributes Y, also in R, (written X → Y) if, and only if, each X value is associated with precisely one Y value; R is then said to satisfy the functional dependency X → Y.\n",
    "    - See [https://pandas.pydata.org/docs/reference/api/pandas.DataFrame.nunique.html](https://pandas.pydata.org/docs/reference/api/pandas.DataFrame.nunique.html)\n",
    "    - Hint: `df.groupby([...])` + `nunique()`\n",
    "- Are there relationships between measures?\n",
    "    - See [https://seaborn.pydata.org/generated/seaborn.pairplot.html](https://seaborn.pydata.org/generated/seaborn.pairplot.html)\n",
    "    - See [https://pandas.pydata.org/pandas-docs/stable/reference/api/pandas.DataFrame.corr.html](https://pandas.pydata.org/pandas-docs/stable/reference/api/pandas.DataFrame.corr.html)"
   ]
  },
  {
   "cell_type": "code",
   "execution_count": null,
   "id": "1420f887",
   "metadata": {},
   "outputs": [],
   "source": [
    "print(df.isnull().sum())"
   ]
  },
  {
   "cell_type": "code",
   "execution_count": null,
   "id": "d855364a",
   "metadata": {},
   "outputs": [],
   "source": [
    "print(df.columns)"
   ]
  },
  {
   "cell_type": "code",
   "execution_count": null,
   "id": "f83f2c65",
   "metadata": {},
   "outputs": [],
   "source": [
    "print(df.info())"
   ]
  },
  {
   "cell_type": "markdown",
   "id": "abccb6b3",
   "metadata": {
    "slideshow": {
     "slide_type": "slide"
    }
   },
   "source": [
    "## Considerations:\n",
    "\n",
    "List of columns: ['C. City', 'C. Country', 'C. State', 'Customer', 'Yearly Income',\n",
    "       'Category', 'Subcategory', 'Family', 'Product', 'S. City', 'S. Country',\n",
    "       'S. State', 'Store', 'Type', 'Sales Date', 'Store Cost', 'Store Sales',\n",
    "       'Unit Sales']\n",
    "    \n",
    "**FD**:\n",
    "City -> State -> Country [to be checked]\n",
    "Category -> Subcategory -> Family -> Product [to be checked]\n",
    "    \n",
    "**DT_Customer** = (C.City, C.Country, C.State, Customer, Yearly_Income)\n",
    "**DT_Product** = (Category, Subcategory, Family, Product)\n",
    "**DT_Store** = (S.City, S.Country, S.State, Store, Type)\n",
    "\n",
    "**FT_Sale** = (Customer:DT_Customer, Product:DT_Product, Sales_Date, *Store_Cost*, *Store_Sales*, *Unit_Sales*)\n",
    "\n",
    "*Measures*"
   ]
  },
  {
   "cell_type": "markdown",
   "id": "abccb6b3",
   "metadata": {
    "slideshow": {
     "slide_type": "slide"
    }
   },
   "source": [
    "## Design and build a relational DWH\n",
    "\n",
    "- Create the database on Amazon RDS\n",
    "- Design the relational schema of the DWH (which are the functional dependencies?)\n",
    "- Upload the tables into rhw DWH"
   ]
  },
  {
   "cell_type": "code",
   "execution_count": null,
   "id": "b3311652",
   "metadata": {},
   "outputs": [],
   "source": [
    "raw_data = wr.s3.read_csv(staging_bucket + \"merged-sales-fact\")\n",
    "raw_data"
   ]
  },
  {
   "cell_type": "code",
   "execution_count": null,
   "id": "15e9510a",
   "metadata": {},
   "outputs": [],
   "source": [
    "print(raw_data.columns)"
   ]
  },
  {
   "cell_type": "code",
   "execution_count": null,
   "id": "c13bbe24",
   "metadata": {},
   "outputs": [],
   "source": [
    "dt_customer = raw_data[['C. City', 'C. Country', 'C. State', 'Customer', 'Yearly Income']].drop_duplicates()\n",
    "dt_customer"
   ]
  },
  {
   "cell_type": "code",
   "execution_count": null,
   "id": "85f34f61",
   "metadata": {},
   "outputs": [],
   "source": [
    "dt_product = raw_data[['Category', 'Subcategory', 'Family', 'Product']].drop_duplicates()\n",
    "dt_product"
   ]
  },
  {
   "cell_type": "code",
   "execution_count": null,
   "id": "1fdf3b5a",
   "metadata": {},
   "outputs": [],
   "source": [
    "dt_store = raw_data[['S. City', 'S. Country',\n",
    "       'S. State', 'Store', 'Type']].drop_duplicates()\n",
    "dt_store"
   ]
  },
  {
   "cell_type": "code",
   "execution_count": null,
   "id": "37b83825",
   "metadata": {},
   "outputs": [],
   "source": [
    "dt_date = raw_data[['Sales Date']].drop_duplicates()\n",
    "dt_date"
   ]
  },
  {
   "cell_type": "code",
   "execution_count": null,
   "id": "8ba5ec5e",
   "metadata": {},
   "outputs": [],
   "source": [
    "ft_sales = raw_data[['Sales Date', 'Store', 'Unit Sales', 'Product',\n",
    "                     'Customer', 'Store Sales', 'Store Cost', 'Unit Sales']].drop_duplicates()\n",
    "ft_sales"
   ]
  },
  {
   "cell_type": "code",
   "execution_count": 42,
   "id": "4b474591",
   "metadata": {
    "slideshow": {
     "slide_type": "subslide"
    }
   },
   "outputs": [],
   "source": [
    "host = \"database-lab.cepvkrc8ii6y.us-east-1.rds.amazonaws.com\"\n",
    "port = 5432\n",
    "user = \"postgres\"\n",
    "pwd = \"bigdata2022\"\n",
    "db = \"postgres\"\n",
    "\n",
    "from sqlalchemy import create_engine\n",
    "s = 'postgresql://{}:{}@{}:{}/{}'.format(user, pwd, host, str(port), db)\n",
    "engine = create_engine(s)"
   ]
  },
  {
   "cell_type": "code",
   "execution_count": 54,
   "id": "f4b40d51",
   "metadata": {},
   "outputs": [],
   "source": [
    "dt_customer.to_sql('customer', engine, index=False, if_exists='replace')\n",
    "dt_product.to_sql('product', engine, index=False, if_exists='replace')\n",
    "dt_store.to_sql('store', engine, index=False, if_exists='replace')\n",
    "dt_date.to_sql('date', engine, index=False, if_exists='replace')"
   ]
  },
  {
   "cell_type": "code",
   "execution_count": 57,
   "id": "8d5e8559",
   "metadata": {},
   "outputs": [],
   "source": [
    "ft_sales.to_sql('sale', engine, index=False, if_exists='replace')"
   ]
  },
  {
   "cell_type": "markdown",
   "id": "755c57c7",
   "metadata": {
    "slideshow": {
     "slide_type": "slide"
    }
   },
   "source": [
    "## Query the DWH with Tableau (Desktop)\n",
    "\n",
    "- Import data from Amazon RDS into Tableau\n",
    "- Join the tables\n",
    "- Set `Sales Date` as a Datetime attribute both in the fact and dimension tables\n",
    "- Build the dimensions and hierarchies in Tableau\n",
    "- Complete the following exercises"
   ]
  },
  {
   "cell_type": "markdown",
   "id": "05217f88",
   "metadata": {
    "slideshow": {
     "slide_type": "subslide"
    }
   },
   "source": [
    "### Exercise 1\n",
    "\n",
    "1. Using a bar chart, display the `sum` of `Store Sales` for each `S. State`\n",
    "     - Which state has the highest sales?\n",
    "2. Drill down to view sales at the `S. City` level.\n",
    "     - Are there cities with much lower sales than others?\n",
    "3. How many stores (`Stores`) are there in each `S. State`? What about in each `S. City`?\n",
    "     - Tip: Use `COUNTD` aggregation. Why?\n",
    "4. Can low sales in some cities be imputed to the number of stores?\n",
    "     - Display sales at the `S. City` level (as done above) and associate the color property with the number of distinct stores (`COUNTD(store)`)"
   ]
  },
  {
   "cell_type": "markdown",
   "id": "e48bc498",
   "metadata": {
    "slideshow": {
     "slide_type": "subslide"
    }
   },
   "source": [
    "### Exercise 2\n",
    "\n",
    "5. Given the last visualization, associate the `S. Type` field with the color property.\n",
    "    - What interesting pattern can you see?\n",
    "6. Display the sales (`SUM`) for each `S. Type`.\n",
    "    - What discrepancy is possible to notice with respect to the previous chart?\n",
    "7. Associate the number of stores (`Store`) with the color property and the label property\n",
    "    - What caused the discrepancy between the previous two visualizations?"
   ]
  },
  {
   "cell_type": "markdown",
   "id": "76756d4c",
   "metadata": {
    "slideshow": {
     "slide_type": "subslide"
    }
   },
   "source": [
    "### Exercise 3\n",
    "\n",
    "8. Using a line chart, visualize the monthly sales trend\n",
    "    - What pattern is present?\n",
    "9. Divide the previous chart by `S. State` (one axis for each state)\n",
    "    - Is the previous pattern present in each `State`?\n",
    "    - Tip: by default the axes all have the same range: on any axis, right-click > `Edit Axis` > `Select Independent axis...`\n",
    "10. Given the previous chart, visualize how much impact the various `Family`s have on total sales while maintaining the monthly trend visualization\n",
    "    - What might be a good visualization?\n",
    "    - Tip: associate each Family with a mark property and possibly change the mark type\n",
    "    - Tip: you can change the mark type from the drop-down menu in the mark panel"
   ]
  },
  {
   "cell_type": "markdown",
   "id": "440f39be",
   "metadata": {
    "slideshow": {
     "slide_type": "slide"
    }
   },
   "source": [
    "## (Bonus) Plot the provenance graph\n",
    "\n",
    "- Plot the provenance graph representing the previous transformations using the PROV standard"
   ]
  },
  {
   "cell_type": "code",
   "execution_count": 6,
   "id": "d0995306",
   "metadata": {
    "slideshow": {
     "slide_type": "skip"
    }
   },
   "outputs": [],
   "source": [
    "from prov.model import ProvDocument\n",
    "from prov.dot import prov_to_dot\n",
    "from IPython.display import Image\n",
    "\n",
    "def plot():\n",
    "    # Create a new provenance document\n",
    "    d1 = ProvDocument()  # d1 is now an empty provenance document\n",
    "    \n",
    "    d1.add_namespace('s3', 'https://s3.console.aws.amazon.com/s3')\n",
    "    d1.add_namespace('rds', 'https://us-east-1.console.aws.amazon.com/rds')\n",
    "    d1.add_namespace('unibo', 'https://www.unibo.it')\n",
    "    d1.add_namespace('pd', 'https://pandas.pydata.org/')\n",
    "    \n",
    "    # TODO\n",
    "\n",
    "    # visualize the graph\n",
    "    dot = prov_to_dot(d1)\n",
    "    dot.write_png('prov.png')\n",
    "    return Image('prov.png')"
   ]
  },
  {
   "cell_type": "code",
   "execution_count": 7,
   "id": "5ea20bb7",
   "metadata": {},
   "outputs": [
    {
     "data": {
      "image/png": "[encoded data removed]",
      "text/plain": [
       "<IPython.core.display.Image object>"
      ]
     },
     "execution_count": 7,
     "metadata": {},
     "output_type": "execute_result"
    }
   ],
   "source": [
    "plot()"
   ]
  }
 ],
 "metadata": {
  "celltoolbar": "Slideshow",
  "kernelspec": {
   "display_name": "Python 3.10.8 64-bit (microsoft store)",
   "language": "python",
   "name": "python3"
  },
  "language_info": {
   "codemirror_mode": {
    "name": "ipython",
    "version": 3
   },
   "file_extension": ".py",
   "mimetype": "text/x-python",
   "name": "python",
   "nbconvert_exporter": "python",
   "pygments_lexer": "ipython3",
   "version": "3.10.8"
  },
  "vscode": {
   "interpreter": {
    "hash": "cd77c4fa0d925ad6032ee5a3fefd397357d75cbf68821c8f82ff57d426545865"
   }
  }
 },
 "nbformat": 4,
 "nbformat_minor": 5
}
